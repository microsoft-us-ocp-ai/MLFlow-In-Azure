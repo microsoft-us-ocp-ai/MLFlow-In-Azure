{
 "cells": [
  {
   "cell_type": "markdown",
   "metadata": {},
   "source": [
    "# Experiment Tracking\n",
    "\n",
    "The machine learning life cycle involves training multiple algorithms using different hyperparameters and libraries, all with different performance results and trained models.  This lesson explores tracking those experiments to organize the machine learning life cycle."
   ]
  },
  {
   "cell_type": "markdown",
   "metadata": {},
   "source": [
    "### Tracking Experiments with MLflow\n",
    "\n",
    "Over the course of the machine learning life cycle, data scientists test many different models from various libraries with different hyperparameters.  Tracking these various results poses an organizational challenge.  In brief, storing experiments, results, models, supplementary artifacts, and code creates significant challenges.\n",
    "\n",
    "MLflow Tracking is one of the three main components of MLflow.  It is a logging API specific for machine learning and agnostic to libraries and environments that do the training.  It is organized around the concept of **runs**, which are executions of data science code.  Runs are aggregated into **experiments** where many runs can be a part of a given experiment and an MLflow server can host many experiments.\n",
    "\n",
    "Each run can record the following information:<br><br>\n",
    "\n",
    "- **Parameters:** Key-value pairs of input parameters such as the number of trees in a random forest model\n",
    "- **Metrics:** Evaluation metrics such as RMSE or Area Under the ROC Curve\n",
    "- **Artifacts:** Arbitrary output files in any format.  This can include images, pickled models, and data files\n",
    "- **Source:** The code that originally ran the experiment\n",
    "\n",
    "MLflow tracking also serves as a **model registry** so tracked models can easily be stored and, as necessary, deployed into production.\n",
    "\n",
    "Experiments can be tracked using libraries in Python, R, and Java as well as by using the CLI and REST calls.  This course will use Python, though the majority of MLflow functionality is also exposed in these other APIs.\n",
    "\n",
    "<div><img src=\"https://files.training.databricks.com/images/eLearning/ML-Part-4/mlflow-tracking.png\" style=\"height: 400px; margin: 20px\"/></div>"
   ]
  },
  {
   "cell_type": "markdown",
   "metadata": {},
   "source": [
    "### Experiment Logging and UI\n",
    "\n",
    "MLflow is an open source software project developed by Databricks available to developers regardless of which platform they are using."
   ]
  },
  {
   "cell_type": "markdown",
   "metadata": {},
   "source": [
    "Import a dataset of Airbnb listings and featurize the data.  We'll use this to train a model."
   ]
  },
  {
   "cell_type": "code",
   "execution_count": 1,
   "metadata": {
    "scrolled": true
   },
   "outputs": [
    {
     "name": "stdout",
     "output_type": "stream",
     "text": [
      "Python 3.8.5\r\n"
     ]
    }
   ],
   "source": [
    "!python --version"
   ]
  },
  {
   "cell_type": "code",
   "execution_count": 4,
   "metadata": {},
   "outputs": [],
   "source": [
    "import os\n",
    "import warnings\n",
    "import sys\n",
    "\n",
    "import pandas as pd\n",
    "import numpy as np\n",
    "import matplotlib.pyplot as plt\n",
    "\n",
    "#Sklearn\n",
    "from sklearn.metrics import mean_squared_error, mean_absolute_error, r2_score\n",
    "from sklearn.model_selection import train_test_split\n",
    "from sklearn.linear_model import ElasticNet\n",
    "\n",
    "#Azure\n",
    "import azureml.core\n",
    "import azureml.dataprep\n",
    "from azureml.core import Workspace, Dataset\n",
    "from azure.storage.blob import BlobServiceClient\n",
    "from azureml.core.authentication import ServicePrincipalAuthentication\n",
    "\n",
    "#MLFlow\n",
    "import mlflow\n",
    "import mlflow.sklearn\n",
    "from mlflow.entities import ViewType\n",
    "\n",
    "#Temporarily filter all warning for demo\n",
    "warnings.filterwarnings(\"ignore\")"
   ]
  },
  {
   "cell_type": "code",
   "execution_count": 5,
   "metadata": {
    "scrolled": true
   },
   "outputs": [
    {
     "name": "stdout",
     "output_type": "stream",
     "text": [
      "SDK version: 1.13.0\n"
     ]
    }
   ],
   "source": [
    "# Check core SDK version number\n",
    "print(\"SDK version:\", azureml.core.VERSION)"
   ]
  },
  {
   "cell_type": "code",
   "execution_count": 9,
   "metadata": {},
   "outputs": [
    {
     "data": {
      "text/html": [
       "<div>\n",
       "<style scoped>\n",
       "    .dataframe tbody tr th:only-of-type {\n",
       "        vertical-align: middle;\n",
       "    }\n",
       "\n",
       "    .dataframe tbody tr th {\n",
       "        vertical-align: top;\n",
       "    }\n",
       "\n",
       "    .dataframe thead th {\n",
       "        text-align: right;\n",
       "    }\n",
       "</style>\n",
       "<table border=\"1\" class=\"dataframe\">\n",
       "  <thead>\n",
       "    <tr style=\"text-align: right;\">\n",
       "      <th></th>\n",
       "      <th>host_total_listings_count</th>\n",
       "      <th>neighbourhood_cleansed</th>\n",
       "      <th>zipcode</th>\n",
       "      <th>latitude</th>\n",
       "      <th>longitude</th>\n",
       "      <th>property_type</th>\n",
       "      <th>room_type</th>\n",
       "      <th>accommodates</th>\n",
       "      <th>bathrooms</th>\n",
       "      <th>bedrooms</th>\n",
       "      <th>...</th>\n",
       "      <th>minimum_nights</th>\n",
       "      <th>number_of_reviews</th>\n",
       "      <th>review_scores_rating</th>\n",
       "      <th>review_scores_accuracy</th>\n",
       "      <th>review_scores_cleanliness</th>\n",
       "      <th>review_scores_checkin</th>\n",
       "      <th>review_scores_communication</th>\n",
       "      <th>review_scores_location</th>\n",
       "      <th>review_scores_value</th>\n",
       "      <th>price</th>\n",
       "    </tr>\n",
       "  </thead>\n",
       "  <tbody>\n",
       "    <tr>\n",
       "      <th>2090</th>\n",
       "      <td>2.0</td>\n",
       "      <td>31</td>\n",
       "      <td>25</td>\n",
       "      <td>37.713248</td>\n",
       "      <td>-122.469861</td>\n",
       "      <td>1</td>\n",
       "      <td>0</td>\n",
       "      <td>5.0</td>\n",
       "      <td>1.0</td>\n",
       "      <td>2.0</td>\n",
       "      <td>...</td>\n",
       "      <td>1.0</td>\n",
       "      <td>3.0</td>\n",
       "      <td>93.0</td>\n",
       "      <td>10.0</td>\n",
       "      <td>10.0</td>\n",
       "      <td>9.0</td>\n",
       "      <td>10.0</td>\n",
       "      <td>10.0</td>\n",
       "      <td>9.0</td>\n",
       "      <td>150.0</td>\n",
       "    </tr>\n",
       "    <tr>\n",
       "      <th>3128</th>\n",
       "      <td>4.0</td>\n",
       "      <td>4</td>\n",
       "      <td>1</td>\n",
       "      <td>37.756527</td>\n",
       "      <td>-122.409218</td>\n",
       "      <td>0</td>\n",
       "      <td>1</td>\n",
       "      <td>1.0</td>\n",
       "      <td>2.0</td>\n",
       "      <td>3.0</td>\n",
       "      <td>...</td>\n",
       "      <td>1.0</td>\n",
       "      <td>24.0</td>\n",
       "      <td>96.0</td>\n",
       "      <td>10.0</td>\n",
       "      <td>10.0</td>\n",
       "      <td>9.0</td>\n",
       "      <td>10.0</td>\n",
       "      <td>9.0</td>\n",
       "      <td>9.0</td>\n",
       "      <td>69.0</td>\n",
       "    </tr>\n",
       "    <tr>\n",
       "      <th>3226</th>\n",
       "      <td>23.0</td>\n",
       "      <td>6</td>\n",
       "      <td>5</td>\n",
       "      <td>37.787223</td>\n",
       "      <td>-122.408172</td>\n",
       "      <td>0</td>\n",
       "      <td>1</td>\n",
       "      <td>2.0</td>\n",
       "      <td>1.0</td>\n",
       "      <td>1.0</td>\n",
       "      <td>...</td>\n",
       "      <td>1.0</td>\n",
       "      <td>99.0</td>\n",
       "      <td>88.0</td>\n",
       "      <td>9.0</td>\n",
       "      <td>9.0</td>\n",
       "      <td>9.0</td>\n",
       "      <td>9.0</td>\n",
       "      <td>9.0</td>\n",
       "      <td>9.0</td>\n",
       "      <td>89.0</td>\n",
       "    </tr>\n",
       "    <tr>\n",
       "      <th>3506</th>\n",
       "      <td>1.0</td>\n",
       "      <td>25</td>\n",
       "      <td>17</td>\n",
       "      <td>37.764631</td>\n",
       "      <td>-122.474559</td>\n",
       "      <td>1</td>\n",
       "      <td>0</td>\n",
       "      <td>7.0</td>\n",
       "      <td>2.0</td>\n",
       "      <td>3.0</td>\n",
       "      <td>...</td>\n",
       "      <td>6.0</td>\n",
       "      <td>8.0</td>\n",
       "      <td>95.0</td>\n",
       "      <td>9.0</td>\n",
       "      <td>9.0</td>\n",
       "      <td>9.0</td>\n",
       "      <td>10.0</td>\n",
       "      <td>10.0</td>\n",
       "      <td>10.0</td>\n",
       "      <td>215.0</td>\n",
       "    </tr>\n",
       "    <tr>\n",
       "      <th>4124</th>\n",
       "      <td>4.0</td>\n",
       "      <td>2</td>\n",
       "      <td>0</td>\n",
       "      <td>37.769154</td>\n",
       "      <td>-122.448681</td>\n",
       "      <td>0</td>\n",
       "      <td>1</td>\n",
       "      <td>2.0</td>\n",
       "      <td>1.0</td>\n",
       "      <td>1.0</td>\n",
       "      <td>...</td>\n",
       "      <td>2.0</td>\n",
       "      <td>4.0</td>\n",
       "      <td>100.0</td>\n",
       "      <td>10.0</td>\n",
       "      <td>10.0</td>\n",
       "      <td>10.0</td>\n",
       "      <td>10.0</td>\n",
       "      <td>10.0</td>\n",
       "      <td>10.0</td>\n",
       "      <td>150.0</td>\n",
       "    </tr>\n",
       "    <tr>\n",
       "      <th>2385</th>\n",
       "      <td>1.0</td>\n",
       "      <td>1</td>\n",
       "      <td>1</td>\n",
       "      <td>37.740255</td>\n",
       "      <td>-122.412591</td>\n",
       "      <td>0</td>\n",
       "      <td>0</td>\n",
       "      <td>2.0</td>\n",
       "      <td>1.0</td>\n",
       "      <td>1.0</td>\n",
       "      <td>...</td>\n",
       "      <td>30.0</td>\n",
       "      <td>92.0</td>\n",
       "      <td>96.0</td>\n",
       "      <td>10.0</td>\n",
       "      <td>10.0</td>\n",
       "      <td>10.0</td>\n",
       "      <td>10.0</td>\n",
       "      <td>9.0</td>\n",
       "      <td>9.0</td>\n",
       "      <td>150.0</td>\n",
       "    </tr>\n",
       "    <tr>\n",
       "      <th>3105</th>\n",
       "      <td>15.0</td>\n",
       "      <td>26</td>\n",
       "      <td>18</td>\n",
       "      <td>37.797858</td>\n",
       "      <td>-122.425715</td>\n",
       "      <td>4</td>\n",
       "      <td>0</td>\n",
       "      <td>2.0</td>\n",
       "      <td>1.0</td>\n",
       "      <td>1.0</td>\n",
       "      <td>...</td>\n",
       "      <td>1.0</td>\n",
       "      <td>117.0</td>\n",
       "      <td>88.0</td>\n",
       "      <td>9.0</td>\n",
       "      <td>9.0</td>\n",
       "      <td>10.0</td>\n",
       "      <td>10.0</td>\n",
       "      <td>10.0</td>\n",
       "      <td>9.0</td>\n",
       "      <td>99.0</td>\n",
       "    </tr>\n",
       "    <tr>\n",
       "      <th>4423</th>\n",
       "      <td>2.0</td>\n",
       "      <td>15</td>\n",
       "      <td>4</td>\n",
       "      <td>37.778249</td>\n",
       "      <td>-122.401181</td>\n",
       "      <td>12</td>\n",
       "      <td>0</td>\n",
       "      <td>2.0</td>\n",
       "      <td>2.0</td>\n",
       "      <td>1.0</td>\n",
       "      <td>...</td>\n",
       "      <td>2.0</td>\n",
       "      <td>4.0</td>\n",
       "      <td>100.0</td>\n",
       "      <td>10.0</td>\n",
       "      <td>10.0</td>\n",
       "      <td>10.0</td>\n",
       "      <td>10.0</td>\n",
       "      <td>10.0</td>\n",
       "      <td>10.0</td>\n",
       "      <td>279.0</td>\n",
       "    </tr>\n",
       "    <tr>\n",
       "      <th>2589</th>\n",
       "      <td>1.0</td>\n",
       "      <td>2</td>\n",
       "      <td>0</td>\n",
       "      <td>37.771331</td>\n",
       "      <td>-122.447103</td>\n",
       "      <td>0</td>\n",
       "      <td>0</td>\n",
       "      <td>2.0</td>\n",
       "      <td>1.0</td>\n",
       "      <td>1.0</td>\n",
       "      <td>...</td>\n",
       "      <td>2.0</td>\n",
       "      <td>76.0</td>\n",
       "      <td>95.0</td>\n",
       "      <td>10.0</td>\n",
       "      <td>10.0</td>\n",
       "      <td>10.0</td>\n",
       "      <td>10.0</td>\n",
       "      <td>9.0</td>\n",
       "      <td>9.0</td>\n",
       "      <td>169.0</td>\n",
       "    </tr>\n",
       "    <tr>\n",
       "      <th>2560</th>\n",
       "      <td>4.0</td>\n",
       "      <td>2</td>\n",
       "      <td>0</td>\n",
       "      <td>37.768923</td>\n",
       "      <td>-122.446147</td>\n",
       "      <td>0</td>\n",
       "      <td>0</td>\n",
       "      <td>6.0</td>\n",
       "      <td>1.0</td>\n",
       "      <td>3.0</td>\n",
       "      <td>...</td>\n",
       "      <td>30.0</td>\n",
       "      <td>110.0</td>\n",
       "      <td>95.0</td>\n",
       "      <td>10.0</td>\n",
       "      <td>9.0</td>\n",
       "      <td>10.0</td>\n",
       "      <td>10.0</td>\n",
       "      <td>10.0</td>\n",
       "      <td>9.0</td>\n",
       "      <td>189.0</td>\n",
       "    </tr>\n",
       "  </tbody>\n",
       "</table>\n",
       "<p>10 rows × 22 columns</p>\n",
       "</div>"
      ],
      "text/plain": [
       "      host_total_listings_count  neighbourhood_cleansed  zipcode   latitude  \\\n",
       "2090                        2.0                      31       25  37.713248   \n",
       "3128                        4.0                       4        1  37.756527   \n",
       "3226                       23.0                       6        5  37.787223   \n",
       "3506                        1.0                      25       17  37.764631   \n",
       "4124                        4.0                       2        0  37.769154   \n",
       "2385                        1.0                       1        1  37.740255   \n",
       "3105                       15.0                      26       18  37.797858   \n",
       "4423                        2.0                      15        4  37.778249   \n",
       "2589                        1.0                       2        0  37.771331   \n",
       "2560                        4.0                       2        0  37.768923   \n",
       "\n",
       "       longitude  property_type  room_type  accommodates  bathrooms  bedrooms  \\\n",
       "2090 -122.469861              1          0           5.0        1.0       2.0   \n",
       "3128 -122.409218              0          1           1.0        2.0       3.0   \n",
       "3226 -122.408172              0          1           2.0        1.0       1.0   \n",
       "3506 -122.474559              1          0           7.0        2.0       3.0   \n",
       "4124 -122.448681              0          1           2.0        1.0       1.0   \n",
       "2385 -122.412591              0          0           2.0        1.0       1.0   \n",
       "3105 -122.425715              4          0           2.0        1.0       1.0   \n",
       "4423 -122.401181             12          0           2.0        2.0       1.0   \n",
       "2589 -122.447103              0          0           2.0        1.0       1.0   \n",
       "2560 -122.446147              0          0           6.0        1.0       3.0   \n",
       "\n",
       "      ...  minimum_nights  number_of_reviews  review_scores_rating  \\\n",
       "2090  ...             1.0                3.0                  93.0   \n",
       "3128  ...             1.0               24.0                  96.0   \n",
       "3226  ...             1.0               99.0                  88.0   \n",
       "3506  ...             6.0                8.0                  95.0   \n",
       "4124  ...             2.0                4.0                 100.0   \n",
       "2385  ...            30.0               92.0                  96.0   \n",
       "3105  ...             1.0              117.0                  88.0   \n",
       "4423  ...             2.0                4.0                 100.0   \n",
       "2589  ...             2.0               76.0                  95.0   \n",
       "2560  ...            30.0              110.0                  95.0   \n",
       "\n",
       "      review_scores_accuracy  review_scores_cleanliness  \\\n",
       "2090                    10.0                       10.0   \n",
       "3128                    10.0                       10.0   \n",
       "3226                     9.0                        9.0   \n",
       "3506                     9.0                        9.0   \n",
       "4124                    10.0                       10.0   \n",
       "2385                    10.0                       10.0   \n",
       "3105                     9.0                        9.0   \n",
       "4423                    10.0                       10.0   \n",
       "2589                    10.0                       10.0   \n",
       "2560                    10.0                        9.0   \n",
       "\n",
       "      review_scores_checkin  review_scores_communication  \\\n",
       "2090                    9.0                         10.0   \n",
       "3128                    9.0                         10.0   \n",
       "3226                    9.0                          9.0   \n",
       "3506                    9.0                         10.0   \n",
       "4124                   10.0                         10.0   \n",
       "2385                   10.0                         10.0   \n",
       "3105                   10.0                         10.0   \n",
       "4423                   10.0                         10.0   \n",
       "2589                   10.0                         10.0   \n",
       "2560                   10.0                         10.0   \n",
       "\n",
       "      review_scores_location  review_scores_value  price  \n",
       "2090                    10.0                  9.0  150.0  \n",
       "3128                     9.0                  9.0   69.0  \n",
       "3226                     9.0                  9.0   89.0  \n",
       "3506                    10.0                 10.0  215.0  \n",
       "4124                    10.0                 10.0  150.0  \n",
       "2385                     9.0                  9.0  150.0  \n",
       "3105                    10.0                  9.0   99.0  \n",
       "4423                    10.0                 10.0  279.0  \n",
       "2589                     9.0                  9.0  169.0  \n",
       "2560                    10.0                  9.0  189.0  \n",
       "\n",
       "[10 rows x 22 columns]"
      ]
     },
     "execution_count": 9,
     "metadata": {},
     "output_type": "execute_result"
    }
   ],
   "source": [
    "data_path = \"/Users/antfra/Desktop/MLFlow In Azure/data/airbnb_sample.csv\" #put your path here\n",
    "df = pd.read_csv(data_path)\n",
    "\n",
    "df.sample(10)"
   ]
  },
  {
   "cell_type": "markdown",
   "metadata": {},
   "source": [
    "Perform a train/test split."
   ]
  },
  {
   "cell_type": "code",
   "execution_count": 10,
   "metadata": {},
   "outputs": [],
   "source": [
    "from sklearn.model_selection import train_test_split\n",
    "\n",
    "X_train, X_test, y_train, y_test = train_test_split(df.drop([\"price\"], axis=1), df[[\"price\"]].values.ravel(), random_state=42)"
   ]
  },
  {
   "cell_type": "markdown",
   "metadata": {},
   "source": [
    "Log a basic experiment by doing the following:<br><br>\n",
    "\n",
    "1. Start an experiment using `mlflow.start_run()` and passing it a name for the run\n",
    "2. Train your model\n",
    "3. Log the model using `mlflow.sklearn.log_model()`\n",
    "4. Log the model error using `mlflow.log_metric()`\n",
    "5. Print out the run id using `run.info.run_uuid`"
   ]
  },
  {
   "cell_type": "code",
   "execution_count": 11,
   "metadata": {},
   "outputs": [],
   "source": [
    "import mlflow.sklearn\n",
    "from sklearn.ensemble import RandomForestRegressor\n",
    "from sklearn.metrics import mean_squared_error"
   ]
  },
  {
   "cell_type": "markdown",
   "metadata": {},
   "source": [
    "### To create an experiment in MLFlow"
   ]
  },
  {
   "cell_type": "markdown",
   "metadata": {},
   "source": [
    "#### List Experiments"
   ]
  },
  {
   "cell_type": "code",
   "execution_count": 14,
   "metadata": {
    "scrolled": true
   },
   "outputs": [
    {
     "data": {
      "text/plain": [
       "[<Experiment: artifact_location='file:///Users/antfra/Desktop/MLFlow%20In%20Azure/notebooks/mlruns/0', experiment_id='0', lifecycle_stage='active', name='Default', tags={}>,\n",
       " <Experiment: artifact_location='file:///Users/antfra/Desktop/MLFlow%20In%20Azure/notebooks/mlruns/1', experiment_id='1', lifecycle_stage='active', name='Simple Experiment', tags={}>]"
      ]
     },
     "execution_count": 14,
     "metadata": {},
     "output_type": "execute_result"
    }
   ],
   "source": [
    "mlflow.tracking.MlflowClient().list_experiments()"
   ]
  },
  {
   "cell_type": "code",
   "execution_count": 13,
   "metadata": {},
   "outputs": [
    {
     "data": {
      "text/plain": [
       "'1'"
      ]
     },
     "execution_count": 13,
     "metadata": {},
     "output_type": "execute_result"
    }
   ],
   "source": [
    "mlflow.create_experiment(\"Simple Experiment\")\n",
    "#output is the experiment_id"
   ]
  },
  {
   "cell_type": "markdown",
   "metadata": {},
   "source": [
    "### Execute A Run"
   ]
  },
  {
   "cell_type": "code",
   "execution_count": 15,
   "metadata": {},
   "outputs": [
    {
     "name": "stdout",
     "output_type": "stream",
     "text": [
      "MSE: 7986.518118521665\n",
      "The runID =9545cfdfaca64100921dcad85f74f1d1 and the experimentID=1\n"
     ]
    }
   ],
   "source": [
    "with mlflow.start_run(run_name=\"RF Experiment 1\",experiment_id=mlflow.tracking.MlflowClient().list_experiments()[1].experiment_id) as run:\n",
    "  # Create model, train it, and create predictions\n",
    "  rf=RandomForestRegressor()\n",
    "  rf.fit(X_train,y_train)\n",
    "  predictions=rf.predict(X_test)\n",
    "  \n",
    "  #log model\n",
    "  mlflow.sklearn.log_model(rf,\"random-forest-model\")\n",
    "  \n",
    "  # Create & log metrics\n",
    "  mse=mean_squared_error(y_test,predictions)\n",
    "  mlflow.log_metric(\"mse\",mse)\n",
    "  print(f\"MSE: {mse}\")\n",
    "  \n",
    "  # Metadata\n",
    "  runID=run.info.run_uuid\n",
    "  experimentID = run.info.experiment_id\n",
    "  \n",
    "  print(f\"The runID ={runID} and the experimentID={experimentID}\")\n",
    "  "
   ]
  },
  {
   "cell_type": "markdown",
   "metadata": {},
   "source": [
    "### Start A New Run"
   ]
  },
  {
   "cell_type": "code",
   "execution_count": 16,
   "metadata": {},
   "outputs": [
    {
     "name": "stdout",
     "output_type": "stream",
     "text": [
      "  mse: 7928.654443245539\n",
      "Inside MLflow Run with run_id 301e5810b6454610a362bd8e7f8cc038 and experiment_id 0\n"
     ]
    }
   ],
   "source": [
    "import mlflow.sklearn\n",
    "from sklearn.ensemble import RandomForestRegressor\n",
    "from sklearn.metrics import mean_squared_error\n",
    "\n",
    "with mlflow.start_run(run_name=\"Basic RF Experiment\") as run:\n",
    "  # Create model, train it, and create predictions\n",
    "  rf = RandomForestRegressor()\n",
    "  rf.fit(X_train, y_train)\n",
    "  predictions = rf.predict(X_test)\n",
    "  \n",
    "  # Log model\n",
    "  mlflow.sklearn.log_model(rf, \"random-forest-model\")\n",
    "  \n",
    "  # Create metrics\n",
    "  mse = mean_squared_error(y_test, predictions)\n",
    "  print(\"  mse: {}\".format(mse))\n",
    "  \n",
    "  # Log metrics\n",
    "  mlflow.log_metric(\"mse\", mse)\n",
    "  \n",
    "  runID = run.info.run_uuid\n",
    "  experimentID = run.info.experiment_id\n",
    "  \n",
    "  print(\"Inside MLflow Run with run_id {} and experiment_id {}\".format(runID, experimentID))"
   ]
  },
  {
   "cell_type": "markdown",
   "metadata": {},
   "source": [
    "Now take a look at the directory structure backing this experiment.  This allows you to retrieve artifacts."
   ]
  },
  {
   "cell_type": "code",
   "execution_count": 17,
   "metadata": {},
   "outputs": [
    {
     "name": "stdout",
     "output_type": "stream",
     "text": [
      "file:///Users/antfra/Desktop/MLFlow%20In%20Azure/notebooks/mlruns/0\n",
      "[<Experiment: artifact_location='file:///Users/antfra/Desktop/MLFlow%20In%20Azure/notebooks/mlruns/0', experiment_id='0', lifecycle_stage='active', name='Default', tags={}>, <Experiment: artifact_location='file:///Users/antfra/Desktop/MLFlow%20In%20Azure/notebooks/mlruns/1', experiment_id='1', lifecycle_stage='active', name='Simple Experiment', tags={}>]\n"
     ]
    }
   ],
   "source": [
    "from mlflow.tracking import MlflowClient\n",
    "\n",
    "artifactURL = MlflowClient().get_experiment(experimentID).artifact_location\n",
    "print(artifactURL)\n",
    "print(MlflowClient().list_experiments())"
   ]
  },
  {
   "cell_type": "code",
   "execution_count": 18,
   "metadata": {},
   "outputs": [
    {
     "name": "stdout",
     "output_type": "stream",
     "text": [
      "file:///Users/antfra/Desktop/MLFlow%20In%20Azure/notebooks/mlruns/0 \n",
      " 301e5810b6454610a362bd8e7f8cc038\n"
     ]
    }
   ],
   "source": [
    "print(artifactURL,'\\n',runID)"
   ]
  },
  {
   "cell_type": "markdown",
   "metadata": {},
   "source": [
    "Take a look at the contents of `random-forest-model`, which match what we see in the UI."
   ]
  },
  {
   "cell_type": "code",
   "execution_count": 19,
   "metadata": {},
   "outputs": [
    {
     "name": "stdout",
     "output_type": "stream",
     "text": [
      "file:///Users/antfra/Desktop/MLFlow%20In%20Azure/notebooks/mlruns/0/301e5810b6454610a362bd8e7f8cc038/artifacts/\n"
     ]
    }
   ],
   "source": [
    "artifacts_folderURL=artifactURL + \"/\" +runID+\"/artifacts/\"\n",
    "print(artifacts_folderURL)"
   ]
  },
  {
   "cell_type": "code",
   "execution_count": 20,
   "metadata": {},
   "outputs": [
    {
     "name": "stdout",
     "output_type": "stream",
     "text": [
      "file:///Users/antfra/Desktop/MLFlow%20In%20Azure/notebooks/mlruns/0/301e5810b6454610a362bd8e7f8cc038/artifacts/random-forest-model\n"
     ]
    }
   ],
   "source": [
    "modelURL = artifactURL + \"/\" + runID + \"/artifacts/random-forest-model\"\n",
    "print(modelURL)"
   ]
  },
  {
   "cell_type": "markdown",
   "metadata": {},
   "source": [
    "### Parameters, Metrics, and Artifacts\n",
    "\n",
    "But wait, there's more!  In the last example, you logged the run name, an evaluation metric, and your model itself as an artifact.  Now let's log parameters, multiple metrics, and other artifacts including the feature importances.\n",
    "\n",
    "First, create a function to perform this."
   ]
  },
  {
   "cell_type": "code",
   "execution_count": 21,
   "metadata": {},
   "outputs": [],
   "source": [
    "def log_rf(experimentID, run_name, params, X_train, X_test, y_train, y_test):\n",
    "  import os\n",
    "  import matplotlib.pyplot as plt\n",
    "  import mlflow.sklearn\n",
    "  import seaborn as sns\n",
    "  from sklearn.ensemble import RandomForestRegressor\n",
    "  from sklearn.metrics import mean_squared_error, mean_absolute_error, r2_score\n",
    "  import tempfile\n",
    "\n",
    "  with mlflow.start_run(experiment_id=experimentID, run_name=run_name) as run:\n",
    "    # Create model, train it, and create predictions\n",
    "    rf = RandomForestRegressor(**params)\n",
    "    rf.fit(X_train, y_train)\n",
    "    predictions = rf.predict(X_test)\n",
    "\n",
    "    # Log model\n",
    "    mlflow.sklearn.log_model(rf, \"random-forest-model\")\n",
    "\n",
    "    # Log params\n",
    "    [mlflow.log_param(param, value) for param, value in params.items()]\n",
    "\n",
    "    # Create metrics\n",
    "    mse = mean_squared_error(y_test, predictions)\n",
    "    mae = mean_absolute_error(y_test, predictions)\n",
    "    r2 = r2_score(y_test, predictions)\n",
    "    print(\"  mse: {}\".format(mse))\n",
    "    print(\"  mae: {}\".format(mae))\n",
    "    print(\"  R2: {}\".format(r2))\n",
    "\n",
    "    # Log metrics\n",
    "    mlflow.log_metric(\"mse\", mse)\n",
    "    mlflow.log_metric(\"mae\", mae)  \n",
    "    mlflow.log_metric(\"r2\", r2)  \n",
    "    \n",
    "    # Create feature importance\n",
    "    importance = pd.DataFrame(list(zip(df.columns, rf.feature_importances_)), \n",
    "                                columns=[\"Feature\", \"Importance\"]\n",
    "                              ).sort_values(\"Importance\", ascending=False)\n",
    "    \n",
    "    # Log importances using a temporary file\n",
    "    temp = tempfile.NamedTemporaryFile(prefix=\"feature-importance-\", suffix=\".csv\")\n",
    "    temp_name = temp.name\n",
    "    print(temp_name)\n",
    "    try:\n",
    "      importance.to_csv(temp_name, index=False)\n",
    "      mlflow.log_artifact(temp_name, \"feature-importance.csv\")\n",
    "    finally:\n",
    "      temp.close() # Delete the temp file\n",
    "    \n",
    "    # Create plot\n",
    "    fig, ax = plt.subplots()\n",
    "\n",
    "    sns.residplot(predictions, y_test, lowess=True)\n",
    "    plt.xlabel(\"Predicted values for Price ($)\")\n",
    "    plt.ylabel(\"Residual\")\n",
    "    plt.title(\"Residual Plot\")\n",
    "\n",
    "    # Log residuals using a temporary file\n",
    "    temp = tempfile.NamedTemporaryFile(prefix=\"residuals-\", suffix=\".png\")\n",
    "    temp_name = temp.name\n",
    "    print(temp_name)\n",
    "    try:\n",
    "      fig.savefig(temp_name)\n",
    "      mlflow.log_artifact(temp_name, \"residuals.png\")\n",
    "    finally:\n",
    "      temp.close() # Delete the temp file\n",
    "    \n",
    "    print(run.info.run_uuid)\n",
    "    display(fig)\n",
    "    \n",
    "    return run.info.run_uuid"
   ]
  },
  {
   "cell_type": "markdown",
   "metadata": {},
   "source": [
    "Run with new parameters."
   ]
  },
  {
   "cell_type": "code",
   "execution_count": 24,
   "metadata": {},
   "outputs": [
    {
     "name": "stdout",
     "output_type": "stream",
     "text": [
      "  mse: 8652.849726178441\n",
      "  mae: 56.02275226231014\n",
      "  R2: 0.6272202130602629\n",
      "/var/folders/n6/qmpybzn97zb7xrz6gb04rfy00000gn/T/feature-importance-_4xaku65.csv\n",
      "/var/folders/n6/qmpybzn97zb7xrz6gb04rfy00000gn/T/residuals-k2i36e0d.png\n",
      "58830ca8e4ea413387bf82e573ef3ca1\n"
     ]
    },
    {
     "data": {
      "image/png": "[encoded data removed]",
      "text/plain": [
       "<Figure size 432x288 with 1 Axes>"
      ]
     },
     "metadata": {},
     "output_type": "display_data"
    },
    {
     "data": {
      "text/plain": [
       "'58830ca8e4ea413387bf82e573ef3ca1'"
      ]
     },
     "execution_count": 24,
     "metadata": {},
     "output_type": "execute_result"
    },
    {
     "data": {
      "image/png": "[encoded data removed]",
      "text/plain": [
       "<Figure size 432x288 with 1 Axes>"
      ]
     },
     "metadata": {
      "needs_background": "light"
     },
     "output_type": "display_data"
    }
   ],
   "source": [
    "params = {\n",
    "  \"n_estimators\": 100,\n",
    "  \"max_depth\": 5,\n",
    "  \"random_state\": 42\n",
    "}\n",
    "\n",
    "log_rf(experimentID, \"Second Run\", params, X_train, X_test, y_train, y_test)"
   ]
  },
  {
   "cell_type": "markdown",
   "metadata": {},
   "source": [
    "Check the UI to see how this appears.  Take a look at the artifact to see where the plot was saved.\n",
    "\n",
    "Now, run a third run."
   ]
  },
  {
   "cell_type": "code",
   "execution_count": 25,
   "metadata": {},
   "outputs": [
    {
     "name": "stdout",
     "output_type": "stream",
     "text": [
      "  mse: 7868.665325354859\n",
      "  mae: 51.213729259361386\n",
      "  R2: 0.6610042383364754\n",
      "/var/folders/n6/qmpybzn97zb7xrz6gb04rfy00000gn/T/feature-importance-q6_km1rx.csv\n",
      "/var/folders/n6/qmpybzn97zb7xrz6gb04rfy00000gn/T/residuals-rbjtget1.png\n",
      "77c453fd42284825b1e8058f7dbef648\n"
     ]
    },
    {
     "data": {
      "image/png": "[encoded data removed]",
      "text/plain": [
       "<Figure size 432x288 with 1 Axes>"
      ]
     },
     "metadata": {},
     "output_type": "display_data"
    },
    {
     "data": {
      "text/plain": [
       "'77c453fd42284825b1e8058f7dbef648'"
      ]
     },
     "execution_count": 25,
     "metadata": {},
     "output_type": "execute_result"
    },
    {
     "data": {
      "image/png": "[encoded data removed]",
      "text/plain": [
       "<Figure size 432x288 with 1 Axes>"
      ]
     },
     "metadata": {
      "needs_background": "light"
     },
     "output_type": "display_data"
    }
   ],
   "source": [
    "params_1000_trees = {\n",
    "  \"n_estimators\": 1000,\n",
    "  \"max_depth\": 10,\n",
    "  \"random_state\": 42\n",
    "}\n",
    "\n",
    "log_rf(experimentID, \"Third Run\", params_1000_trees, X_train, X_test, y_train, y_test)"
   ]
  },
  {
   "cell_type": "markdown",
   "metadata": {},
   "source": [
    "### Querying Past Runs\n",
    "\n",
    "You can query past runs programatically in order to use this data back in Python.  The pathway to doing this is an `MlflowClient` object. "
   ]
  },
  {
   "cell_type": "code",
   "execution_count": 26,
   "metadata": {},
   "outputs": [],
   "source": [
    "from  mlflow.tracking import MlflowClient\n",
    "\n",
    "client = MlflowClient()"
   ]
  },
  {
   "cell_type": "markdown",
   "metadata": {},
   "source": [
    "Now list all the runs for your experiment using `.list_run_infos()`, which takes your `experiment_id` as a parameter."
   ]
  },
  {
   "cell_type": "code",
   "execution_count": 27,
   "metadata": {},
   "outputs": [
    {
     "data": {
      "text/plain": [
       "[<RunInfo: artifact_uri='file:///Users/antfra/Desktop/MLFlow%20In%20Azure/notebooks/mlruns/0/77c453fd42284825b1e8058f7dbef648/artifacts', end_time=1600416414685, experiment_id='0', lifecycle_stage='active', run_id='77c453fd42284825b1e8058f7dbef648', run_uuid='77c453fd42284825b1e8058f7dbef648', start_time=1600416405221, status='FINISHED', user_id='antfra'>,\n",
       " <RunInfo: artifact_uri='file:///Users/antfra/Desktop/MLFlow%20In%20Azure/notebooks/mlruns/0/58830ca8e4ea413387bf82e573ef3ca1/artifacts', end_time=1600416398779, experiment_id='0', lifecycle_stage='active', run_id='58830ca8e4ea413387bf82e573ef3ca1', run_uuid='58830ca8e4ea413387bf82e573ef3ca1', start_time=1600416397806, status='FINISHED', user_id='antfra'>,\n",
       " <RunInfo: artifact_uri='file:///Users/antfra/Desktop/MLFlow%20In%20Azure/notebooks/mlruns/0/bd6ab775c3c54e44b4e6ca069f63c0c9/artifacts', end_time=1600416354835, experiment_id='0', lifecycle_stage='active', run_id='bd6ab775c3c54e44b4e6ca069f63c0c9', run_uuid='bd6ab775c3c54e44b4e6ca069f63c0c9', start_time=1600416354245, status='FAILED', user_id='antfra'>,\n",
       " <RunInfo: artifact_uri='file:///Users/antfra/Desktop/MLFlow%20In%20Azure/notebooks/mlruns/0/301e5810b6454610a362bd8e7f8cc038/artifacts', end_time=1600416174202, experiment_id='0', lifecycle_stage='active', run_id='301e5810b6454610a362bd8e7f8cc038', run_uuid='301e5810b6454610a362bd8e7f8cc038', start_time=1600416172582, status='FINISHED', user_id='antfra'>]"
      ]
     },
     "execution_count": 27,
     "metadata": {},
     "output_type": "execute_result"
    }
   ],
   "source": [
    "client.list_run_infos(experimentID)"
   ]
  },
  {
   "cell_type": "markdown",
   "metadata": {},
   "source": [
    "Pull out a few fields and create a pandas DataFrame with it."
   ]
  },
  {
   "cell_type": "code",
   "execution_count": 32,
   "metadata": {},
   "outputs": [
    {
     "data": {
      "text/html": [
       "<div>\n",
       "<style scoped>\n",
       "    .dataframe tbody tr th:only-of-type {\n",
       "        vertical-align: middle;\n",
       "    }\n",
       "\n",
       "    .dataframe tbody tr th {\n",
       "        vertical-align: top;\n",
       "    }\n",
       "\n",
       "    .dataframe thead th {\n",
       "        text-align: right;\n",
       "    }\n",
       "</style>\n",
       "<table border=\"1\" class=\"dataframe\">\n",
       "  <thead>\n",
       "    <tr style=\"text-align: right;\">\n",
       "      <th></th>\n",
       "      <th>run_uuid</th>\n",
       "      <th>start_time</th>\n",
       "      <th>artifact_uri</th>\n",
       "    </tr>\n",
       "  </thead>\n",
       "  <tbody>\n",
       "    <tr>\n",
       "      <th>0</th>\n",
       "      <td>77c453fd42284825b1e8058f7dbef648</td>\n",
       "      <td>1600416405221</td>\n",
       "      <td>file:///Users/antfra/Desktop/MLFlow%20In%20Azu...</td>\n",
       "    </tr>\n",
       "    <tr>\n",
       "      <th>1</th>\n",
       "      <td>58830ca8e4ea413387bf82e573ef3ca1</td>\n",
       "      <td>1600416397806</td>\n",
       "      <td>file:///Users/antfra/Desktop/MLFlow%20In%20Azu...</td>\n",
       "    </tr>\n",
       "    <tr>\n",
       "      <th>2</th>\n",
       "      <td>bd6ab775c3c54e44b4e6ca069f63c0c9</td>\n",
       "      <td>1600416354245</td>\n",
       "      <td>file:///Users/antfra/Desktop/MLFlow%20In%20Azu...</td>\n",
       "    </tr>\n",
       "    <tr>\n",
       "      <th>3</th>\n",
       "      <td>301e5810b6454610a362bd8e7f8cc038</td>\n",
       "      <td>1600416172582</td>\n",
       "      <td>file:///Users/antfra/Desktop/MLFlow%20In%20Azu...</td>\n",
       "    </tr>\n",
       "  </tbody>\n",
       "</table>\n",
       "</div>"
      ],
      "text/plain": [
       "                           run_uuid     start_time  \\\n",
       "0  77c453fd42284825b1e8058f7dbef648  1600416405221   \n",
       "1  58830ca8e4ea413387bf82e573ef3ca1  1600416397806   \n",
       "2  bd6ab775c3c54e44b4e6ca069f63c0c9  1600416354245   \n",
       "3  301e5810b6454610a362bd8e7f8cc038  1600416172582   \n",
       "\n",
       "                                        artifact_uri  \n",
       "0  file:///Users/antfra/Desktop/MLFlow%20In%20Azu...  \n",
       "1  file:///Users/antfra/Desktop/MLFlow%20In%20Azu...  \n",
       "2  file:///Users/antfra/Desktop/MLFlow%20In%20Azu...  \n",
       "3  file:///Users/antfra/Desktop/MLFlow%20In%20Azu...  "
      ]
     },
     "metadata": {},
     "output_type": "display_data"
    }
   ],
   "source": [
    "runs = pd.DataFrame([(run.run_uuid, run.start_time, run.artifact_uri) for run in client.list_run_infos(experimentID)])\n",
    "runs.columns = [\"run_uuid\", \"start_time\", \"artifact_uri\"]\n",
    "\n",
    "display(runs)"
   ]
  },
  {
   "cell_type": "markdown",
   "metadata": {},
   "source": [
    "Pull the last run and take a look at the associated artifacts."
   ]
  },
  {
   "cell_type": "code",
   "execution_count": 61,
   "metadata": {},
   "outputs": [
    {
     "name": "stdout",
     "output_type": "stream",
     "text": [
      "file:///Users/antfra/Desktop/MLFlow%20In%20Azure/notebooks/mlruns/0/77c453fd42284825b1e8058f7dbef648/artifacts/random-forest-model/\n"
     ]
    }
   ],
   "source": [
    "last_run = runs.sort_values(\"start_time\", ascending=False).iloc[0]\n",
    "\n",
    "print(last_run.artifact_uri+ \"/random-forest-model/\")"
   ]
  },
  {
   "cell_type": "code",
   "execution_count": 80,
   "metadata": {},
   "outputs": [
    {
     "name": "stdout",
     "output_type": "stream",
     "text": [
      "file:/Users/antfra/Desktop/MLFlow%20In%20Azure/notebooks/mlruns/0/77c453fd42284825b1e8058f7dbef648/artifacts/random-forest-model\n"
     ]
    }
   ],
   "source": [
    "from pathlib import Path\n",
    "\n",
    "filename=Path(last_run.artifact_uri+ \"/random-forest-model/\")\n",
    "print(filename)\n",
    "for x in filename.rglob('**/*'):\n",
    "    print(x)"
   ]
  },
  {
   "cell_type": "markdown",
   "metadata": {},
   "source": [
    "Return the evaluation metrics for the last run."
   ]
  },
  {
   "cell_type": "code",
   "execution_count": 43,
   "metadata": {},
   "outputs": [
    {
     "data": {
      "text/plain": [
       "{'mae': 51.213729259361386, 'mse': 7868.665325354859, 'r2': 0.6610042383364754}"
      ]
     },
     "execution_count": 43,
     "metadata": {},
     "output_type": "execute_result"
    }
   ],
   "source": [
    "client.get_run(last_run.run_uuid).data.metrics"
   ]
  },
  {
   "cell_type": "code",
   "execution_count": 51,
   "metadata": {},
   "outputs": [
    {
     "data": {
      "text/plain": [
       "<Run: data=<RunData: metrics={'mae': 51.213729259361386, 'mse': 7868.665325354859, 'r2': 0.6610042383364754}, params={'max_depth': '10', 'n_estimators': '1000', 'random_state': '42'}, tags={'mlflow.log-model.history': '[{\"run_id\": \"77c453fd42284825b1e8058f7dbef648\", '\n",
       "                             '\"artifact_path\": \"random-forest-model\", '\n",
       "                             '\"utc_time_created\": \"2020-09-18 '\n",
       "                             '08:06:54.083834\", \"flavors\": {\"python_function\": '\n",
       "                             '{\"model_path\": \"model.pkl\", \"loader_module\": '\n",
       "                             '\"mlflow.sklearn\", \"python_version\": \"3.8.5\", '\n",
       "                             '\"env\": \"conda.yaml\"}, \"sklearn\": '\n",
       "                             '{\"pickled_model\": \"model.pkl\", '\n",
       "                             '\"sklearn_version\": \"0.23.2\", '\n",
       "                             '\"serialization_format\": \"cloudpickle\"}}}]',\n",
       " 'mlflow.runName': 'Third Run',\n",
       " 'mlflow.source.git.commit': '70635dade88cc31365a8a0b2275b639981cbab63',\n",
       " 'mlflow.source.name': '/Users/antfra/.pyenv/versions/anaconda3-2019.10/envs/mlflow_tutorial/lib/python3.8/site-packages/ipykernel_launcher.py',\n",
       " 'mlflow.source.type': 'LOCAL',\n",
       " 'mlflow.user': 'antfra'}>, info=<RunInfo: artifact_uri='file:///Users/antfra/Desktop/MLFlow%20In%20Azure/notebooks/mlruns/0/77c453fd42284825b1e8058f7dbef648/artifacts', end_time=1600416414685, experiment_id='0', lifecycle_stage='active', run_id='77c453fd42284825b1e8058f7dbef648', run_uuid='77c453fd42284825b1e8058f7dbef648', start_time=1600416405221, status='FINISHED', user_id='antfra'>>"
      ]
     },
     "execution_count": 51,
     "metadata": {},
     "output_type": "execute_result"
    }
   ],
   "source": [
    "client.get_run(last_run.run_uuid)"
   ]
  },
  {
   "cell_type": "markdown",
   "metadata": {},
   "source": [
    "Reload the model and take a look at the feature importance."
   ]
  },
  {
   "cell_type": "code",
   "execution_count": 57,
   "metadata": {},
   "outputs": [
    {
     "name": "stdout",
     "output_type": "stream",
     "text": [
      "file:///Users/antfra/Desktop/MLFlow%20In%20Azure/notebooks/mlruns/0/77c453fd42284825b1e8058f7dbef648/artifacts\n"
     ]
    }
   ],
   "source": [
    "print(last_run.artifact_uri)"
   ]
  },
  {
   "cell_type": "code",
   "execution_count": 58,
   "metadata": {},
   "outputs": [
    {
     "data": {
      "text/plain": [
       "array([0.02322258, 0.02051433, 0.01753094, 0.10215433, 0.04884614,\n",
       "       0.01454922, 0.05496871, 0.06026611, 0.11730059, 0.43356225,\n",
       "       0.00912555, 0.00439141, 0.0202865 , 0.03151115, 0.02182316,\n",
       "       0.00238272, 0.00531728, 0.00142615, 0.00091983, 0.00564621,\n",
       "       0.00425484])"
      ]
     },
     "execution_count": 58,
     "metadata": {},
     "output_type": "execute_result"
    }
   ],
   "source": [
    "import mlflow.sklearn\n",
    "\n",
    "model = mlflow.sklearn.load_model(last_run.artifact_uri + \"/random-forest-model/\")\n",
    "model.feature_importances_"
   ]
  }
 ],
 "metadata": {
  "kernelspec": {
   "display_name": "Python 3",
   "language": "python",
   "name": "python3"
  },
  "language_info": {
   "codemirror_mode": {
    "name": "ipython",
    "version": 3
   },
   "file_extension": ".py",
   "mimetype": "text/x-python",
   "name": "python",
   "nbconvert_exporter": "python",
   "pygments_lexer": "ipython3",
   "version": "3.8.5"
  },
  "name": "02-Experiment-Tracking",
  "notebookId": 4442749364359340
 },
 "nbformat": 4,
 "nbformat_minor": 4
}
